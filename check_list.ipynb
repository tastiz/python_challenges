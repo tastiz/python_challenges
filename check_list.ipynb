{
  "nbformat": 4,
  "nbformat_minor": 0,
  "metadata": {
    "colab": {
      "name": "check_list.ipynb",
      "provenance": [],
      "authorship_tag": "ABX9TyNRYxnvuLzKQB7mqv7JIm8V",
      "include_colab_link": true
    },
    "kernelspec": {
      "name": "python3",
      "display_name": "Python 3"
    }
  },
  "cells": [
    {
      "cell_type": "markdown",
      "metadata": {
        "id": "view-in-github",
        "colab_type": "text"
      },
      "source": [
        "<a href=\"https://colab.research.google.com/github/tastiz/python_challenges/blob/master/check_list.ipynb\" target=\"_parent\"><img src=\"https://colab.research.google.com/assets/colab-badge.svg\" alt=\"Open In Colab\"/></a>"
      ]
    },
    {
      "cell_type": "code",
      "metadata": {
        "id": "EAul5PZzacee",
        "colab_type": "code",
        "colab": {
          "base_uri": "https://localhost:8080/",
          "height": 85
        },
        "outputId": "9a578326-0c6f-488b-8839-4fc4970eee0a"
      },
      "source": [
        "import random\n",
        "\n",
        "def check_list():\n",
        "  number = random.randint(0,10)\n",
        "  number_check = int(input('Let us check the list for values under: '))\n",
        "  print(number)\n",
        "  number_list = []\n",
        "  for i in range(number):\n",
        "    number_list.append(random.randint(0,100))\n",
        "  print(number_list)\n",
        "  new_number_list = []\n",
        "  for j in number_list:\n",
        "    if j < number_check:\n",
        "      new_number_list.append(j)\n",
        "  return new_number_list\n",
        "\n",
        "check_list()\n"
      ],
      "execution_count": 103,
      "outputs": [
        {
          "output_type": "stream",
          "text": [
            "Let us check the list for values under: 100\n",
            "5\n",
            "[84, 84, 57, 80, 48]\n"
          ],
          "name": "stdout"
        },
        {
          "output_type": "execute_result",
          "data": {
            "text/plain": [
              "[84, 84, 57, 80, 48]"
            ]
          },
          "metadata": {
            "tags": []
          },
          "execution_count": 103
        }
      ]
    },
    {
      "cell_type": "code",
      "metadata": {
        "id": "9xmjiDDjirAc",
        "colab_type": "code",
        "colab": {
          "base_uri": "https://localhost:8080/",
          "height": 68
        },
        "outputId": "deb07925-99f2-4df6-de96-d6f6d7c9645e"
      },
      "source": [
        "import random\n",
        "\n",
        "def make_random_list():\n",
        "  number = random.randint(0,10)\n",
        "  print(number)\n",
        "  number_list = []\n",
        "  for i in range(number):\n",
        "    number_list.append(random.randint(0,100))\n",
        "  print(number_list)\n",
        "  return [number for number in number_list if number < 5]\n",
        "\n",
        "make_random_list()"
      ],
      "execution_count": 100,
      "outputs": [
        {
          "output_type": "stream",
          "text": [
            "4\n",
            "[15, 39, 35, 72]\n"
          ],
          "name": "stdout"
        },
        {
          "output_type": "execute_result",
          "data": {
            "text/plain": [
              "[]"
            ]
          },
          "metadata": {
            "tags": []
          },
          "execution_count": 100
        }
      ]
    }
  ]
}