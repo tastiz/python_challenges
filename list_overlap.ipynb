{
  "nbformat": 4,
  "nbformat_minor": 0,
  "metadata": {
    "colab": {
      "name": "list_overlap.ipynb",
      "provenance": [],
      "authorship_tag": "ABX9TyNI0e3zqqKZu/Z7rTHHoNRy",
      "include_colab_link": true
    },
    "kernelspec": {
      "name": "python3",
      "display_name": "Python 3"
    }
  },
  "cells": [
    {
      "cell_type": "markdown",
      "metadata": {
        "id": "view-in-github",
        "colab_type": "text"
      },
      "source": [
        "<a href=\"https://colab.research.google.com/github/tastiz/python_challenges/blob/master/list_overlap.ipynb\" target=\"_parent\"><img src=\"https://colab.research.google.com/assets/colab-badge.svg\" alt=\"Open In Colab\"/></a>"
      ]
    },
    {
      "cell_type": "code",
      "metadata": {
        "id": "U9p4axyJ1RhJ",
        "colab_type": "code",
        "colab": {
          "base_uri": "https://localhost:8080/",
          "height": 34
        },
        "outputId": "c87a9be9-74a4-48a0-db96-5a95cb7c4197"
      },
      "source": [
        "import random\n",
        "def compare_list():\n",
        "  list1 = []\n",
        "  list2 = []\n",
        "  same_list = []\n",
        "  make1_number = random.randint(0,100)\n",
        "  for number in range(make1_number):\n",
        "    list1.append(random.randint(0,100))\n",
        "  make2_number = random.randint(0,100)\n",
        "  for number in range(make2_number):\n",
        "    list2.append(random.randint(0,100))\n",
        "  for number in list1:\n",
        "    for check in list2:\n",
        "      if number == check:\n",
        "        same_list.append(number)\n",
        "  print(same_list)\n",
        " \n",
        "compare_list()\n"
      ],
      "execution_count": 12,
      "outputs": [
        {
          "output_type": "stream",
          "text": [
            "[1, 1, 47, 1]\n"
          ],
          "name": "stdout"
        }
      ]
    }
  ]
}