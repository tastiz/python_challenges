{
  "nbformat": 4,
  "nbformat_minor": 0,
  "metadata": {
    "colab": {
      "name": "list_overlap.ipynb",
      "provenance": [],
      "authorship_tag": "ABX9TyNxoNZzeOeYm/iebn7V/JQE",
      "include_colab_link": true
    },
    "kernelspec": {
      "name": "python3",
      "display_name": "Python 3"
    }
  },
  "cells": [
    {
      "cell_type": "markdown",
      "metadata": {
        "id": "view-in-github",
        "colab_type": "text"
      },
      "source": [
        "<a href=\"https://colab.research.google.com/github/tastiz/python_challenges/blob/master/list_overlap.ipynb\" target=\"_parent\"><img src=\"https://colab.research.google.com/assets/colab-badge.svg\" alt=\"Open In Colab\"/></a>"
      ]
    },
    {
      "cell_type": "code",
      "metadata": {
        "id": "U9p4axyJ1RhJ",
        "colab_type": "code",
        "outputId": "c87a9be9-74a4-48a0-db96-5a95cb7c4197",
        "colab": {
          "base_uri": "https://localhost:8080/",
          "height": 34
        }
      },
      "source": [
        "import random\n",
        "def compare_list():\n",
        "  list1 = []\n",
        "  list2 = []\n",
        "  same_list = []\n",
        "  make1_number = random.randint(0,100)\n",
        "  for number in range(make1_number):\n",
        "    list1.append(random.randint(0,100))\n",
        "  make2_number = random.randint(0,100)\n",
        "  for number in range(make2_number):\n",
        "    list2.append(random.randint(0,100))\n",
        "  for number in list1:\n",
        "    for check in list2:\n",
        "      if number == check:\n",
        "        same_list.append(number)\n",
        "  print(same_list)\n",
        " \n",
        "compare_list()\n"
      ],
      "execution_count": 0,
      "outputs": [
        {
          "output_type": "stream",
          "text": [
            "[1, 1, 47, 1]\n"
          ],
          "name": "stdout"
        }
      ]
    },
    {
      "cell_type": "code",
      "metadata": {
        "id": "Eb2uE4myuj4z",
        "colab_type": "code",
        "colab": {
          "base_uri": "https://localhost:8080/",
          "height": 34
        },
        "outputId": "b0c2d67f-80de-47ac-c45c-147278909039"
      },
      "source": [
        "the_list = [2, 2, 4, 5, 6, 6, 7, 7, 8, 8, 8, 9, 9, 9, 10, 11]\n",
        "def no_repeats(s):\n",
        "  function_list = dict.fromkeys(s)\n",
        "  return list(function_list)\n",
        "\n",
        "no_repeats(the_list)\n"
      ],
      "execution_count": 2,
      "outputs": [
        {
          "output_type": "execute_result",
          "data": {
            "text/plain": [
              "[2, 4, 5, 6, 7, 8, 9, 10, 11]"
            ]
          },
          "metadata": {
            "tags": []
          },
          "execution_count": 2
        }
      ]
    }
  ]
}