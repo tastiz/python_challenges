{
  "nbformat": 4,
  "nbformat_minor": 0,
  "metadata": {
    "colab": {
      "name": "odd_even.ipynb",
      "provenance": [],
      "authorship_tag": "ABX9TyPFMyVCYjYn0HiO3aI3wLCF",
      "include_colab_link": true
    },
    "kernelspec": {
      "name": "python3",
      "display_name": "Python 3"
    }
  },
  "cells": [
    {
      "cell_type": "markdown",
      "metadata": {
        "id": "view-in-github",
        "colab_type": "text"
      },
      "source": [
        "<a href=\"https://colab.research.google.com/github/tastiz/python_challenges/blob/master/odd_even.ipynb\" target=\"_parent\"><img src=\"https://colab.research.google.com/assets/colab-badge.svg\" alt=\"Open In Colab\"/></a>"
      ]
    },
    {
      "cell_type": "code",
      "metadata": {
        "id": "UQTfJSNwSQfP",
        "colab_type": "code",
        "colab": {
          "base_uri": "https://localhost:8080/",
          "height": 51
        },
        "outputId": "9876b7e2-94bb-4a2f-f7aa-ff74bb7cf0f4"
      },
      "source": [
        "def odd_even():\n",
        "  pick_number = int(input('What is your favorite number?'))\n",
        "  if pick_number % 2 == 0:\n",
        "    print('Your favorite number {} is even!'.format(pick_number))\n",
        "  else:\n",
        "    print('Your favorite number {} is odd!'.format(pick_number))\n",
        "\n",
        "odd_even()\n"
      ],
      "execution_count": 2,
      "outputs": [
        {
          "output_type": "stream",
          "text": [
            "What is your favorite number?56\n",
            "Your favorite number 56 is even!\n"
          ],
          "name": "stdout"
        }
      ]
    }
  ]
}