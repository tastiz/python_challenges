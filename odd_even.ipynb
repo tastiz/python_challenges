{
  "nbformat": 4,
  "nbformat_minor": 0,
  "metadata": {
    "colab": {
      "name": "odd_even.ipynb",
      "provenance": [],
      "include_colab_link": true
    },
    "kernelspec": {
      "name": "python3",
      "display_name": "Python 3"
    }
  },
  "cells": [
    {
      "cell_type": "markdown",
      "metadata": {
        "id": "view-in-github",
        "colab_type": "text"
      },
      "source": [
        "<a href=\"https://colab.research.google.com/github/tastiz/python_challenges/blob/master/odd_even.ipynb\" target=\"_parent\"><img src=\"https://colab.research.google.com/assets/colab-badge.svg\" alt=\"Open In Colab\"/></a>"
      ]
    },
    {
      "cell_type": "code",
      "metadata": {
        "id": "UQTfJSNwSQfP",
        "colab_type": "code",
        "outputId": "8f5c1759-ff0f-4a90-ea34-698f5da73d60",
        "colab": {
          "base_uri": "https://localhost:8080/",
          "height": 51
        }
      },
      "source": [
        "def odd_even():\n",
        "  pick_number = int(input('What is your favorite number?'))\n",
        "  if pick_number % 4 == 0:\n",
        "    print('Your favorite number {} is a multiple of 4!'.format(pick_number))\n",
        "  elif pick_number % 2 == 0:\n",
        "    print('Your favorite number {} is even!'.format(pick_number))\n",
        "  else:\n",
        "    print('Your favorite number {} is odd!'.format(pick_number))\n",
        "\n",
        "odd_even()\n"
      ],
      "execution_count": 0,
      "outputs": [
        {
          "output_type": "stream",
          "text": [
            "What is your favorite number?6\n",
            "Your favorite number 6 is even!\n"
          ],
          "name": "stdout"
        }
      ]
    },
    {
      "cell_type": "code",
      "metadata": {
        "id": "nma7seCHUKef",
        "colab_type": "code",
        "outputId": "c7fc0299-9527-4022-c8c2-07bcf6b77949",
        "colab": {
          "base_uri": "https://localhost:8080/",
          "height": 68
        }
      },
      "source": [
        "def is_divisible():\n",
        "  pick_number = int(input('What is your favorite number?'))\n",
        "  divisor = int(input('What should we divide {} by?'.format(pick_number)))\n",
        "  if pick_number % divisor == 0:\n",
        "    print('Your favorite number {} is a multiple of {}!'.format(pick_number, divisor))\n",
        "  else:\n",
        "    print('Your favorite number {} is not a multiple of {}!'.format(pick_number, divisor))\n",
        "\n",
        "is_divisible()\n"
      ],
      "execution_count": 25,
      "outputs": [
        {
          "output_type": "stream",
          "text": [
            "What is your favorite number?34\n",
            "What should we divide 34 by?17\n",
            "Your favorite number 34 is a multiple of 17!\n"
          ],
          "name": "stdout"
        }
      ]
    }
  ]
}