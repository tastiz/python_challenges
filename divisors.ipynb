{
  "nbformat": 4,
  "nbformat_minor": 0,
  "metadata": {
    "colab": {
      "name": "divisors.ipynb",
      "provenance": [],
      "authorship_tag": "ABX9TyNqdWR7ucPMI7LWOCvOZlnK",
      "include_colab_link": true
    },
    "kernelspec": {
      "name": "python3",
      "display_name": "Python 3"
    }
  },
  "cells": [
    {
      "cell_type": "markdown",
      "metadata": {
        "id": "view-in-github",
        "colab_type": "text"
      },
      "source": [
        "<a href=\"https://colab.research.google.com/github/tastiz/python_challenges/blob/master/divisors.ipynb\" target=\"_parent\"><img src=\"https://colab.research.google.com/assets/colab-badge.svg\" alt=\"Open In Colab\"/></a>"
      ]
    },
    {
      "cell_type": "code",
      "metadata": {
        "id": "b59T22ZJx33Z",
        "colab_type": "code",
        "colab": {
          "base_uri": "https://localhost:8080/",
          "height": 68
        },
        "outputId": "1debc4ba-f471-4da1-f0f1-ba387c5dd85c"
      },
      "source": [
        "\n",
        "def check_divisibility():\n",
        "  print('Let us find some divisors!')\n",
        "  question = int(input('What number should we check? '))\n",
        "  actual_divisors = []\n",
        "  possible_divisors = range(1,question)\n",
        "  for divide in possible_divisors:\n",
        "    if question % divide == 0:\n",
        "      actual_divisors.append(divide)\n",
        "  return actual_divisors\n",
        "  \n",
        "check_divisibility()\n"
      ],
      "execution_count": 7,
      "outputs": [
        {
          "output_type": "stream",
          "text": [
            "Let us find some divisors!\n",
            "What number should we check? 10\n"
          ],
          "name": "stdout"
        },
        {
          "output_type": "execute_result",
          "data": {
            "text/plain": [
              "[1, 2, 5]"
            ]
          },
          "metadata": {
            "tags": []
          },
          "execution_count": 7
        }
      ]
    }
  ]
}