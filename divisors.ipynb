{
  "nbformat": 4,
  "nbformat_minor": 0,
  "metadata": {
    "colab": {
      "name": "divisors.ipynb",
      "provenance": [],
      "authorship_tag": "ABX9TyOrNNffuWwIJSHXa6M7gTYY",
      "include_colab_link": true
    },
    "kernelspec": {
      "name": "python3",
      "display_name": "Python 3"
    }
  },
  "cells": [
    {
      "cell_type": "markdown",
      "metadata": {
        "id": "view-in-github",
        "colab_type": "text"
      },
      "source": [
        "<a href=\"https://colab.research.google.com/github/tastiz/python_challenges/blob/master/divisors.ipynb\" target=\"_parent\"><img src=\"https://colab.research.google.com/assets/colab-badge.svg\" alt=\"Open In Colab\"/></a>"
      ]
    },
    {
      "cell_type": "code",
      "metadata": {
        "id": "b59T22ZJx33Z",
        "colab_type": "code",
        "outputId": "81bf8618-4f5c-439b-90af-750b51b27597",
        "colab": {
          "base_uri": "https://localhost:8080/",
          "height": 68
        }
      },
      "source": [
        "def check_divisibility():\n",
        "  print('Let us find some divisors!')\n",
        "  question = int(input('What number should we check? '))\n",
        "  actual_divisors = []\n",
        "  possible_divisors = range(1,question)\n",
        "  for divide in possible_divisors:\n",
        "    if question % divide == 0:\n",
        "      actual_divisors.append(divide)\n",
        "  return actual_divisors\n",
        "check_divisibility()\n"
      ],
      "execution_count": 1,
      "outputs": [
        {
          "output_type": "stream",
          "text": [
            "Let us find some divisors!\n",
            "What number should we check? 87\n"
          ],
          "name": "stdout"
        },
        {
          "output_type": "execute_result",
          "data": {
            "text/plain": [
              "[1, 3, 29]"
            ]
          },
          "metadata": {
            "tags": []
          },
          "execution_count": 1
        }
      ]
    },
    {
      "cell_type": "code",
      "metadata": {
        "id": "hlfNChZmLCf3",
        "colab_type": "code",
        "colab": {
          "base_uri": "https://localhost:8080/",
          "height": 136
        },
        "outputId": "94596675-cbe4-472a-a35a-d2aeb540931f"
      },
      "source": [
        "def check_divisibility(number1, number2):\n",
        "  actual_divisors1 = []\n",
        "  actual_divisors2 = []\n",
        "  common_values = []\n",
        "  possible_divisors1 = range(1,number1)\n",
        "  for divide in possible_divisors1:\n",
        "    if number1 % divide == 0:\n",
        "      actual_divisors1.append(divide)\n",
        "  possible_divisors2 = range(1,number2)\n",
        "  for divide in possible_divisors2:\n",
        "    if number2 % divide == 0:\n",
        "      actual_divisors2.append(divide)\n",
        "  for i in actual_divisors1:\n",
        "    for j in actual_divisors2:\n",
        "      if i == j:\n",
        "        common_values.append(i)\n",
        "  print('{}:'.format(number1), actual_divisors1)\n",
        "  print('{}:'.format(number2), actual_divisors2)\n",
        "  print(common_values)\n",
        "  \n",
        "def common_denominators():\n",
        "  number1 = int(input('Which number should we pick first? '))\n",
        "  print('Let us pick a second number to find its common denominator!')\n",
        "  number2 = int(input(''))\n",
        "  print('Here are the common denominators for {} and {}.'.format(number1, number2))\n",
        "  check_divisibility(number1, number2)\n",
        "\n",
        "common_denominators()\n"
      ],
      "execution_count": 8,
      "outputs": [
        {
          "output_type": "stream",
          "text": [
            "Which number should we pick first? 75\n",
            "Let us pick a second number to find its common denominator!\n",
            "95\n",
            "Here are the common denominators for 75 and 95.\n",
            "75: [1, 3, 5, 15, 25]\n",
            "95: [1, 5, 19]\n",
            "[1, 5]\n"
          ],
          "name": "stdout"
        }
      ]
    }
  ]
}