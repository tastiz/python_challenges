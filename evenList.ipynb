{
  "nbformat": 4,
  "nbformat_minor": 0,
  "metadata": {
    "colab": {
      "name": "evenList.ipynb",
      "provenance": [],
      "authorship_tag": "ABX9TyMgZZMhFG1+iK6/r9j3Zh2b",
      "include_colab_link": true
    },
    "kernelspec": {
      "name": "python3",
      "display_name": "Python 3"
    }
  },
  "cells": [
    {
      "cell_type": "markdown",
      "metadata": {
        "id": "view-in-github",
        "colab_type": "text"
      },
      "source": [
        "<a href=\"https://colab.research.google.com/github/tastiz/python_challenges/blob/master/evenList.ipynb\" target=\"_parent\"><img src=\"https://colab.research.google.com/assets/colab-badge.svg\" alt=\"Open In Colab\"/></a>"
      ]
    },
    {
      "cell_type": "code",
      "metadata": {
        "id": "ip6640J48Lwk",
        "colab_type": "code",
        "colab": {
          "base_uri": "https://localhost:8080/",
          "height": 34
        },
        "outputId": "8f1bb0a7-1696-4649-c7f2-d548f389643e"
      },
      "source": [
        "import random\n",
        "\n",
        "random_list = []\n",
        "random_number = random.randint(0,100)\n",
        "for i in range(random_number):\n",
        "  random_list.append(i)\n",
        "\n",
        "def even_list(l):\n",
        "  the_even_list = []\n",
        "  for i in l:\n",
        "    if i % 2 == 0:\n",
        "      the_even_list.append(i)\n",
        "  return the_even_list\n",
        "\n",
        "even_list(random_list)\n"
      ],
      "execution_count": 14,
      "outputs": [
        {
          "output_type": "execute_result",
          "data": {
            "text/plain": [
              "[0, 2, 4, 6, 8, 10, 12, 14, 16, 18, 20, 22, 24, 26, 28]"
            ]
          },
          "metadata": {
            "tags": []
          },
          "execution_count": 14
        }
      ]
    }
  ]
}