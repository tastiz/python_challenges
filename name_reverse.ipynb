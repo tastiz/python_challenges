{
  "nbformat": 4,
  "nbformat_minor": 0,
  "metadata": {
    "colab": {
      "name": "name_reverse.ipynb",
      "provenance": [],
      "authorship_tag": "ABX9TyPIF3DwOa/uvIWljbIvOE4V",
      "include_colab_link": true
    },
    "kernelspec": {
      "name": "python3",
      "display_name": "Python 3"
    }
  },
  "cells": [
    {
      "cell_type": "markdown",
      "metadata": {
        "id": "view-in-github",
        "colab_type": "text"
      },
      "source": [
        "<a href=\"https://colab.research.google.com/github/tastiz/python_challenges/blob/master/name_reverse.ipynb\" target=\"_parent\"><img src=\"https://colab.research.google.com/assets/colab-badge.svg\" alt=\"Open In Colab\"/></a>"
      ]
    },
    {
      "cell_type": "code",
      "metadata": {
        "id": "VQjo3Yr5vcbd",
        "colab_type": "code",
        "outputId": "615757f4-3ea2-4df7-f789-b7e039d2f5b2",
        "colab": {
          "base_uri": "https://localhost:8080/",
          "height": 85
        }
      },
      "source": [
        "def name_reverse():\n",
        "  user_name = str(input('What is your name?\\n'))\n",
        "  print('Your name backwards is:')\n",
        "  print('{}!'.format(user_name[::-1]))\n",
        "\n",
        "name_reverse()"
      ],
      "execution_count": 2,
      "outputs": [
        {
          "output_type": "stream",
          "text": [
            "What is your name?\n",
            "Taylor\n",
            "Your name backwards is:\n",
            "rolyaT!\n"
          ],
          "name": "stdout"
        }
      ]
    }
  ]
}