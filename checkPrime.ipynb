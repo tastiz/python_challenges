{
  "nbformat": 4,
  "nbformat_minor": 0,
  "metadata": {
    "colab": {
      "name": "checkPrime.ipynb",
      "provenance": [],
      "authorship_tag": "ABX9TyPfjFTayD7mXPM36FF57FxC",
      "include_colab_link": true
    },
    "kernelspec": {
      "name": "python3",
      "display_name": "Python 3"
    }
  },
  "cells": [
    {
      "cell_type": "markdown",
      "metadata": {
        "id": "view-in-github",
        "colab_type": "text"
      },
      "source": [
        "<a href=\"https://colab.research.google.com/github/tastiz/python_challenges/blob/master/checkPrime.ipynb\" target=\"_parent\"><img src=\"https://colab.research.google.com/assets/colab-badge.svg\" alt=\"Open In Colab\"/></a>"
      ]
    },
    {
      "cell_type": "code",
      "metadata": {
        "id": "YJib0NOLfKDb",
        "colab_type": "code",
        "outputId": "9f5c11cc-93b4-43af-abe2-08e12d313ede",
        "colab": {
          "base_uri": "https://localhost:8080/",
          "height": 68
        }
      },
      "source": [
        "#not currently working\n",
        "#need the function to only return one statement if the number is prime or not\n",
        "\n",
        "def check_prime():\n",
        "  print('Let us find some prime numbers!')\n",
        "  user_input = int(input('Pick a number: '))\n",
        "  numbers_before = []\n",
        "  numbers_before = range(2,user_input)\n",
        "  answer = True\n",
        "  for x in numbers_before:\n",
        "    if user_input % x == 0:\n",
        "      answer = False\n",
        "  if answer:\n",
        "      print('The number {} is prime!'.format(user_input))\n",
        "  else:\n",
        "    print('The number {} is not prime!'.format(user_input))\n",
        "check_prime()\n"
      ],
      "execution_count": 25,
      "outputs": [
        {
          "output_type": "stream",
          "text": [
            "Let us find some prime numbers!\n",
            "Pick a number: 29\n",
            "The number 29 is prime!\n"
          ],
          "name": "stdout"
        }
      ]
    }
  ]
}