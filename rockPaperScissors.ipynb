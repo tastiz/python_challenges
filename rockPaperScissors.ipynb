{
  "nbformat": 4,
  "nbformat_minor": 0,
  "metadata": {
    "colab": {
      "name": "rockPaperScissors.ipynb",
      "provenance": [],
      "authorship_tag": "ABX9TyNr+zhWu870i4cwnhbAXQoF",
      "include_colab_link": true
    },
    "kernelspec": {
      "name": "python3",
      "display_name": "Python 3"
    }
  },
  "cells": [
    {
      "cell_type": "markdown",
      "metadata": {
        "id": "view-in-github",
        "colab_type": "text"
      },
      "source": [
        "<a href=\"https://colab.research.google.com/github/tastiz/python_challenges/blob/master/rockPaperScissors.ipynb\" target=\"_parent\"><img src=\"https://colab.research.google.com/assets/colab-badge.svg\" alt=\"Open In Colab\"/></a>"
      ]
    },
    {
      "cell_type": "code",
      "metadata": {
        "id": "f4SCT4KDKrit",
        "colab_type": "code",
        "colab": {}
      },
      "source": [
        "def rockPaperScissors():\n",
        "  player1 = input('rock, paper, or scissors?')\n",
        "  if player1 != 'rock':\n",
        "    if player1 != 'paper':\n",
        "      if player1 != 'scissors':\n",
        "        player1 = input('Please spell correctly.')\n",
        "  player2 = input('rock, paper, or scissors?')\n",
        "  if player2 != 'rock':\n",
        "    if player2 != 'paper':\n",
        "      if player2 != 'scissors':\n",
        "        player2 = input('Please spell correctly.')\n",
        "  if player1 == 'rock' and player2 == 'scissors':\n",
        "    print('Player1 wins!')\n",
        "  elif player1 == 'scissors' and player2 == 'paper':\n",
        "    print('Player1 wins!')\n",
        "  else:\n",
        "    print('Player2 wins!')\n",
        "\n",
        "rockPaperScissors()"
      ],
      "execution_count": 0,
      "outputs": []
    }
  ]
}