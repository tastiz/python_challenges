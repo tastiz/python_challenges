{
  "nbformat": 4,
  "nbformat_minor": 0,
  "metadata": {
    "colab": {
      "name": "rockPaperScissors.ipynb",
      "provenance": [],
      "authorship_tag": "ABX9TyN03tf2mb0mxoPxNCv63+Fy",
      "include_colab_link": true
    },
    "kernelspec": {
      "name": "python3",
      "display_name": "Python 3"
    }
  },
  "cells": [
    {
      "cell_type": "markdown",
      "metadata": {
        "id": "view-in-github",
        "colab_type": "text"
      },
      "source": [
        "<a href=\"https://colab.research.google.com/github/tastiz/python_challenges/blob/master/rockPaperScissors.ipynb\" target=\"_parent\"><img src=\"https://colab.research.google.com/assets/colab-badge.svg\" alt=\"Open In Colab\"/></a>"
      ]
    },
    {
      "cell_type": "code",
      "metadata": {
        "id": "f4SCT4KDKrit",
        "colab_type": "code",
        "colab": {
          "base_uri": "https://localhost:8080/",
          "height": 68
        },
        "outputId": "219fce6c-2ea5-4287-a185-377474d6fbde"
      },
      "source": [
        "def rockPaperScissors():\n",
        "  player1 = input('rock, paper, or scissors?')\n",
        "  if player1 != 'rock':\n",
        "    if player1 != 'paper':\n",
        "      if player1 != 'scissors':\n",
        "        player1 = input('Please spell correctly.')\n",
        "  player2 = input('rock, paper, or scissors?')\n",
        "  if player2 != 'rock':\n",
        "    if player2 != 'paper':\n",
        "      if player2 != 'scissors':\n",
        "        player2 = input('Please spell correctly.')\n",
        "  if player1 == 'rock' and player2 == 'scissors':\n",
        "    print('Player1 wins!')\n",
        "  elif player1 == 'scissors' and player2 == 'paper':\n",
        "    print('Player1 wins!')\n",
        "  else:\n",
        "    print('Player2 wins!')\n",
        "\n",
        "rockPaperScissors()"
      ],
      "execution_count": 1,
      "outputs": [
        {
          "output_type": "stream",
          "text": [
            "rock, paper, or scissors?rock\n",
            "rock, paper, or scissors?scissors\n",
            "Player1 wins!\n"
          ],
          "name": "stdout"
        }
      ]
    },
    {
      "cell_type": "code",
      "metadata": {
        "id": "edLJwfxLHSYI",
        "colab_type": "code",
        "colab": {
          "base_uri": "https://localhost:8080/",
          "height": 51
        },
        "outputId": "070de639-0dfa-43b5-d351-66941ed8c0a1"
      },
      "source": [
        "import random\n",
        "\n",
        "def rockPaperScissors():\n",
        "  player1 = input('rock, paper, or scissors? ')\n",
        "  if player1 != 'rock':\n",
        "    if player1 != 'paper':\n",
        "      if player1 != 'scissors':\n",
        "        player1 = input('Please spell correctly.')\n",
        "  random_pick = random.randint(0,2)\n",
        "  computer_pick = ['rock', 'paper', 'scissors']\n",
        "  computer_choice = computer_pick[random_pick]\n",
        "\n",
        "  if player1 == 'rock' and computer_choice == 'scissors':\n",
        "    print('Player1 wins!')\n",
        "  elif player1 == 'scissors' and computer_choice == 'paper':\n",
        "    print('Player1 wins!')\n",
        "  else:\n",
        "    print('Computer wins!')\n",
        "\n",
        "rockPaperScissors()"
      ],
      "execution_count": 3,
      "outputs": [
        {
          "output_type": "stream",
          "text": [
            "rock, paper, or scissors?scissors\n",
            "Player1 wins!\n"
          ],
          "name": "stdout"
        }
      ]
    }
  ]
}