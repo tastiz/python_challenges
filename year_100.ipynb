{
  "nbformat": 4,
  "nbformat_minor": 0,
  "metadata": {
    "colab": {
      "name": "year_100.ipynb",
      "provenance": [],
      "authorship_tag": "ABX9TyN6XV0QdFmXFDvykRn8ibD1",
      "include_colab_link": true
    },
    "kernelspec": {
      "name": "python3",
      "display_name": "Python 3"
    }
  },
  "cells": [
    {
      "cell_type": "markdown",
      "metadata": {
        "id": "view-in-github",
        "colab_type": "text"
      },
      "source": [
        "<a href=\"https://colab.research.google.com/github/tastiz/python_challenges/blob/master/year_100.ipynb\" target=\"_parent\"><img src=\"https://colab.research.google.com/assets/colab-badge.svg\" alt=\"Open In Colab\"/></a>"
      ]
    },
    {
      "cell_type": "code",
      "metadata": {
        "id": "J2LkVYklMdqO",
        "colab_type": "code",
        "colab": {
          "base_uri": "https://localhost:8080/",
          "height": 187
        },
        "outputId": "7eeb711f-45af-4ab0-b503-6b77917cdc35"
      },
      "source": [
        "import datetime\n",
        "\n",
        "def year_100():\n",
        "  now = datetime.datetime.today().year\n",
        "  age_question = int(input('What is your age?'))\n",
        "  year_togo = 100 - age_question\n",
        "  future = now + year_togo\n",
        "  copy_number = 0\n",
        "  copy_number = int(input('How many copies would you like printed?'))\n",
        "  for i in range(copy_number): \n",
        "    print('You will be 100 in the year {}. \\n'.format(future))\n",
        "  \n",
        "year_100()"
      ],
      "execution_count": 29,
      "outputs": [
        {
          "output_type": "stream",
          "text": [
            "What is your age?45\n",
            "How many copies would you like printed?4\n",
            "You will be 100 in the year 2075. \n",
            "\n",
            "You will be 100 in the year 2075. \n",
            "\n",
            "You will be 100 in the year 2075. \n",
            "\n",
            "You will be 100 in the year 2075. \n",
            "\n"
          ],
          "name": "stdout"
        }
      ]
    }
  ]
}