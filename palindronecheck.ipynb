{
  "nbformat": 4,
  "nbformat_minor": 0,
  "metadata": {
    "colab": {
      "name": "palindronecheck.ipynb",
      "provenance": [],
      "authorship_tag": "ABX9TyOc5bVOmpSoeJ8Hqh3NOS5b",
      "include_colab_link": true
    },
    "kernelspec": {
      "name": "python3",
      "display_name": "Python 3"
    }
  },
  "cells": [
    {
      "cell_type": "markdown",
      "metadata": {
        "id": "view-in-github",
        "colab_type": "text"
      },
      "source": [
        "<a href=\"https://colab.research.google.com/github/tastiz/python_challenges/blob/master/palindronecheck.ipynb\" target=\"_parent\"><img src=\"https://colab.research.google.com/assets/colab-badge.svg\" alt=\"Open In Colab\"/></a>"
      ]
    },
    {
      "cell_type": "code",
      "metadata": {
        "id": "YKMrXV6R5q99",
        "colab_type": "code",
        "outputId": "58f98496-e6bb-403a-e4f9-ee410946962a",
        "colab": {
          "base_uri": "https://localhost:8080/",
          "height": 68
        }
      },
      "source": [
        "def listToString(l):\n",
        "  new_string = ''\n",
        "  for i in l:\n",
        "    new_string += i\n",
        "  return new_string\n",
        "\n",
        "def palindrone_question():\n",
        "  word_forward =  str(input('Which word would we want to check? '))\n",
        "  word_backwards = []\n",
        "  for i in word_forward:\n",
        "    word_backwards.append(i)\n",
        "  word_backwards.reverse()\n",
        "  print(word_backwards)\n",
        "  if str(word_forward) == listToString(word_backwards):\n",
        "    print('{} is a palindrone!'.format(word_forward))\n",
        "  else:\n",
        "    print('{} is not a palindrone!'.format(word_forward))\n",
        "\n",
        "palindrone_question()\n"
      ],
      "execution_count": 15,
      "outputs": [
        {
          "output_type": "stream",
          "text": [
            "Which word would we want to check? racecar\n",
            "['r', 'a', 'c', 'e', 'c', 'a', 'r']\n",
            "racecar is a palindrone!\n"
          ],
          "name": "stdout"
        }
      ]
    }
  ]
}