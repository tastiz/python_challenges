{
  "nbformat": 4,
  "nbformat_minor": 0,
  "metadata": {
    "colab": {
      "name": "guessGame.ipynb",
      "provenance": [],
      "authorship_tag": "ABX9TyNodBAm/BVX+rbaKq2XirhU",
      "include_colab_link": true
    },
    "kernelspec": {
      "name": "python3",
      "display_name": "Python 3"
    }
  },
  "cells": [
    {
      "cell_type": "markdown",
      "metadata": {
        "id": "view-in-github",
        "colab_type": "text"
      },
      "source": [
        "<a href=\"https://colab.research.google.com/github/tastiz/python_challenges/blob/master/guessGame.ipynb\" target=\"_parent\"><img src=\"https://colab.research.google.com/assets/colab-badge.svg\" alt=\"Open In Colab\"/></a>"
      ]
    },
    {
      "cell_type": "markdown",
      "metadata": {
        "id": "dSxqsGCbdP3E",
        "colab_type": "text"
      },
      "source": [
        "This is a case where a while loop was more efficient and ulitmately accomplishes the games goal to have the user discover the correct number.  "
      ]
    },
    {
      "cell_type": "code",
      "metadata": {
        "id": "pSZwt80sQKIR",
        "colab_type": "code",
        "outputId": "ec64217e-071f-43da-d4f8-500dc4fc1d42",
        "colab": {
          "base_uri": "https://localhost:8080/",
          "height": 85
        }
      },
      "source": [
        "import random\n",
        "def guessGame2():\n",
        "  game_number = random.randint(0,9)\n",
        "  user_input = int(input('Pick a number between 0 and 9.  '))\n",
        "  while game_number > user_input:\n",
        "    user_input = int(input('You picked too low, try again.  '))\n",
        "  while game_number < user_input:\n",
        "    user_input = int(input('You pikced too high, try again.  '))\n",
        "  else:\n",
        "    print('{} was the right number!'.format(user_input))\n",
        "\n",
        "guessGame2()"
      ],
      "execution_count": 0,
      "outputs": [
        {
          "output_type": "stream",
          "text": [
            "Pick a number between 0 and 9.  5\n",
            "You pikced too high, try again.  3\n",
            "You pikced too high, try again.  1\n",
            "1 was the right number!\n"
          ],
          "name": "stdout"
        }
      ]
    },
    {
      "cell_type": "code",
      "metadata": {
        "id": "MK8d0BYyN3cg",
        "colab_type": "code",
        "outputId": "48c109d4-8e8f-4ce8-df1e-dab50cad19c5",
        "colab": {
          "base_uri": "https://localhost:8080/",
          "height": 68
        }
      },
      "source": [
        "#example of why we use while loop and not if statement for conditions that must be met\n",
        "import random\n",
        "def guessGame():\n",
        "  game_number = random.randint(0,9)\n",
        "  response = int(input('Guess a number between 0 and 9: '))\n",
        "  if response > game_number:\n",
        "    response = int(input('You guessed too high.  Try again: '))\n",
        "    if response > game_number:\n",
        "      response = int(input('You guessed too high.  Try again: '))\n",
        "    elif response < game_number:\n",
        "      response = int(input('You guessed too low.  Try again: '))\n",
        "    else:\n",
        "      print('{} was the right number!')\n",
        "  elif response < game_number:\n",
        "    response = int(input('You guessed too low.  Try again: '))\n",
        "    if response > game_number:\n",
        "      response = int(input('You guessed too high.  Try again: '))\n",
        "    elif response < game_number:\n",
        "      response = int(input('You guessed too low.  Try again: '))\n",
        "    else:\n",
        "      print('{} was the right number!')\n",
        "  else:\n",
        "    print('{} was the right number!')\n",
        "\n",
        "guessGame()"
      ],
      "execution_count": 0,
      "outputs": [
        {
          "output_type": "stream",
          "text": [
            "Guess a number between 0 and 9: 5\n",
            "You guessed too low.  Try again: 5\n",
            "You guessed too low.  Try again: 7\n"
          ],
          "name": "stdout"
        }
      ]
    }
  ]
}