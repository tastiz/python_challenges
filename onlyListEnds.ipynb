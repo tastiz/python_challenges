{
  "nbformat": 4,
  "nbformat_minor": 0,
  "metadata": {
    "colab": {
      "name": "onlyListEnds.ipynb",
      "provenance": [],
      "authorship_tag": "ABX9TyOJcrlD8/S/nOuAfnijTIbg",
      "include_colab_link": true
    },
    "kernelspec": {
      "name": "python3",
      "display_name": "Python 3"
    }
  },
  "cells": [
    {
      "cell_type": "markdown",
      "metadata": {
        "id": "view-in-github",
        "colab_type": "text"
      },
      "source": [
        "<a href=\"https://colab.research.google.com/github/tastiz/python_challenges/blob/master/onlyListEnds.ipynb\" target=\"_parent\"><img src=\"https://colab.research.google.com/assets/colab-badge.svg\" alt=\"Open In Colab\"/></a>"
      ]
    },
    {
      "cell_type": "code",
      "metadata": {
        "id": "0iDzG5n8eBm_",
        "colab_type": "code",
        "colab": {
          "base_uri": "https://localhost:8080/",
          "height": 34
        },
        "outputId": "fcb93288-5194-40c8-c624-7fff7f2ac118"
      },
      "source": [
        "some_list = [5, 10, 20, 30, 40, 50]\n",
        "\n",
        "def only_ends(the_list):\n",
        "  ends_list = []\n",
        "  ends_list.append(the_list[0])\n",
        "  ends_list.append(the_list[-1])\n",
        "  return ends_list\n",
        "\n",
        "only_ends(some_list)"
      ],
      "execution_count": 2,
      "outputs": [
        {
          "output_type": "execute_result",
          "data": {
            "text/plain": [
              "[5, 50]"
            ]
          },
          "metadata": {
            "tags": []
          },
          "execution_count": 2
        }
      ]
    }
  ]
}