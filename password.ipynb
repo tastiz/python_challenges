{
  "nbformat": 4,
  "nbformat_minor": 0,
  "metadata": {
    "colab": {
      "name": "password.ipynb",
      "provenance": [],
      "authorship_tag": "ABX9TyNnS1K8t1E5Mi//EntIiHmt",
      "include_colab_link": true
    },
    "kernelspec": {
      "name": "python3",
      "display_name": "Python 3"
    }
  },
  "cells": [
    {
      "cell_type": "markdown",
      "metadata": {
        "id": "view-in-github",
        "colab_type": "text"
      },
      "source": [
        "<a href=\"https://colab.research.google.com/github/tastiz/python_challenges/blob/master/password.ipynb\" target=\"_parent\"><img src=\"https://colab.research.google.com/assets/colab-badge.svg\" alt=\"Open In Colab\"/></a>"
      ]
    },
    {
      "cell_type": "code",
      "metadata": {
        "id": "u1btQpmFIfDp",
        "colab_type": "code",
        "colab": {}
      },
      "source": [
        "from google.colab import drive\n",
        "import pandas as pd\n",
        "import csv\n",
        "import random\n",
        "\n",
        "def password():\n",
        "  user_input = int(input('What strength password?\\n'))\n",
        "  alphabet = ['a','b','c','d','e','f','g','h','i','j','k','l','m','n','o','p','q','r','s','t','u','v','w','x','y','z']\n",
        "  symbol = ['!','@','#','$','%','^','*','<','>','?','|']\n",
        "  numbers = ['1','2','3','4','5','6','7','8','9','0']\n",
        "  alphabet_rand = []\n",
        "  alphabet_rand.append(random.randint(0, len(alphabet)))\n",
        "  symbol_rand = []\n",
        "  symbol_rand.append(random.randint(0, len(symbol)))\n",
        "  numbers_rand = []\n",
        "  numbers_rand.append(random.randint(0, len(numbers)))\n",
        "  \n",
        "  created_password = ''\n",
        "  for i in alphabet:\n",
        "    while len(created_password) < 8:\n",
        "      if user_input == 1:\n",
        "        created_password += i\n",
        "        \n",
        "          \n",
        "\n",
        "  print(created_password)\n",
        "password()\n",
        "             "
      ],
      "execution_count": 0,
      "outputs": []
    },
    {
      "cell_type": "code",
      "metadata": {
        "id": "dWfWeGv86yVV",
        "colab_type": "code",
        "colab": {}
      },
      "source": [
        ""
      ],
      "execution_count": 0,
      "outputs": []
    }
  ]
}