{
  "nbformat": 4,
  "nbformat_minor": 0,
  "metadata": {
    "colab": {
      "name": "password.ipynb",
      "provenance": [],
      "authorship_tag": "ABX9TyMqSHCHkZaM0lyBzkDb0BCm",
      "include_colab_link": true
    },
    "kernelspec": {
      "name": "python3",
      "display_name": "Python 3"
    }
  },
  "cells": [
    {
      "cell_type": "markdown",
      "metadata": {
        "id": "view-in-github",
        "colab_type": "text"
      },
      "source": [
        "<a href=\"https://colab.research.google.com/github/tastiz/python_challenges/blob/master/password.ipynb\" target=\"_parent\"><img src=\"https://colab.research.google.com/assets/colab-badge.svg\" alt=\"Open In Colab\"/></a>"
      ]
    },
    {
      "cell_type": "code",
      "metadata": {
        "id": "u1btQpmFIfDp",
        "colab_type": "code",
        "colab": {}
      },
      "source": [
        "from google.colab import drive\n",
        "import pandas as pd\n",
        "import csv\n",
        "import random\n",
        "\n",
        "def password():\n",
        "  user_input = int(input('You can have a password strength\\n of 1-5.\\n What strength password would you like?\\n '))\n",
        "  alphabet = ['a','b','c','d','e','f','g','h','i','j','k','l','m','n','o','p','q','r','s','t','u','v','w','x','y','z']\n",
        "  alphabet_rand = []\n",
        "  alphabet_number = []\n",
        "  alpabet_number = random.randint(0, 25)\n",
        "  for i in alphabet_number:\n",
        "    alphabet_rand.append(alphabet_number[int(i)])\n",
        "  symbol = ['!','@','#','$','%','^','*','<','>','?','|']\n",
        "  numbers = ['1','2','3','4','5','6','7','8','9','0']\n",
        "  symbol_rand = []\n",
        "  symbol_rand.append(random.randint(0, len(symbol)))\n",
        "  numbers_rand = []\n",
        "  numbers_rand.append(random.randint(0, len(numbers)))\n",
        "  \n",
        "  created_password = ''\n",
        "  while len(created_password) < 8:\n",
        "    if user_input == 1:\n",
        "      for i in alphabet_rand:\n",
        "        created_password += i\n",
        "        \n",
        "  print(created_password)\n",
        "password()\n",
        "             "
      ],
      "execution_count": 0,
      "outputs": []
    },
    {
      "cell_type": "code",
      "metadata": {
        "id": "aH1LBDx1aJbo",
        "colab_type": "code",
        "colab": {}
      },
      "source": [
        "def random_number_list()\n",
        "  number_list = []\n",
        "  make1_number = random.randint(0,100)\n",
        "    for number in range(make1_number):\n",
        "      list1.append(random.randint(0,100))"
      ],
      "execution_count": 0,
      "outputs": []
    },
    {
      "cell_type": "code",
      "metadata": {
        "id": "dWfWeGv86yVV",
        "colab_type": "code",
        "colab": {}
      },
      "source": [
        "alphabet_rand.append(random.randint(0, len(alphabet)))"
      ],
      "execution_count": 0,
      "outputs": []
    },
    {
      "cell_type": "code",
      "metadata": {
        "id": "TMTX-hlkcHSP",
        "colab_type": "code",
        "colab": {
          "base_uri": "https://localhost:8080/",
          "height": 51
        },
        "outputId": "e633c78f-538b-49c9-9088-66218333d06d"
      },
      "source": [
        "import random\n",
        "import timeit\n",
        "\n",
        "\n",
        "def password():\n",
        "  #user_input = int(input('You can have a password strength\\n of 1-5.\\n What strength password would you like?\\n '))\n",
        "  #while (user_input < 0) and (user_input > 6):\n",
        "   # user_input = int(input('Please choose 1-5.\\n'))\n",
        "  alphabet = ['a','b','c','d','e','f','g','h','i','j','k','l','m','n','o','p','q','r','s','t','u','v','w','x','y','z']\n",
        "  list1 =[]\n",
        "  make1_number = random.randint(1,8)\n",
        "  created_alphabet1 = ''\n",
        "  while len(created_alphabet1) < 10:\n",
        "    for number in range(make1_number):\n",
        "      list1.append(random.randint(0,25))\n",
        "    for i in list1:\n",
        "      created_alphabet1 += alphabet[i]\n",
        "  created_alphabet2 = ''\n",
        "  while len(created_alphabet2) < 10:\n",
        "    for number in range(make1_number):\n",
        "      list1.append(random.randint(0,25))\n",
        "    for i in list1:\n",
        "      created_alphabet2 += alphabet[i]\n",
        "  symbol = ['!','@','#','$','%','^','*','<','>','?','|']\n",
        "  chosen_symbol = symbol[random.randint(0,10)]\n",
        "  created_password = ''\n",
        "  #decides which part of the list to start grabbing from\n",
        "  choice_random = random.randint(0,4)\n",
        "  choice_random2 = random.randint(0,4)\n",
        "  created_password += created_alphabet2[choice_random: (choice_random + 4)]\n",
        "  created_password += chosen_symbol\n",
        "  created_password += created_alphabet1[choice_random2: (choice_random2 + random.randint(3,6))]\n",
        "  print(created_password)\n",
        "  print(timeit.timeit())\n",
        "password()"
      ],
      "execution_count": 147,
      "outputs": [
        {
          "output_type": "stream",
          "text": [
            "scme?ywsc\n",
            "0.008187359999737964\n"
          ],
          "name": "stdout"
        }
      ]
    },
    {
      "cell_type": "code",
      "metadata": {
        "id": "Oj7Ox4qAFIRE",
        "colab_type": "code",
        "colab": {}
      },
      "source": [
        "if len(created_password) == 0:\n",
        "      make1_number = random.randint(1,8)\n",
        "      for number in range(make1_number):\n",
        "        list1.append(random.randint(0,25))\n",
        "      created_password = ''\n",
        "      for i in list1:\n",
        "        created_password += alphabet[i]\n",
        "    elif len(created_password) < 10:\n",
        "      created_password += created_password"
      ],
      "execution_count": 0,
      "outputs": []
    },
    {
      "cell_type": "code",
      "metadata": {
        "id": "cX6hWJiiBFb-",
        "colab_type": "code",
        "colab": {
          "base_uri": "https://localhost:8080/",
          "height": 34
        },
        "outputId": "5255ad27-6ea5-492c-8565-37839520f6ec"
      },
      "source": [
        "def alternate_password():\n",
        "  list1 = ['a','b','c','d']\n",
        "  list2 = ['d','a','c','b']\n",
        "  list3 = []\n",
        "  for i in list2:\n",
        "    for j in list1:\n",
        "      if i == j:\n",
        "        list3.append(j)\n",
        "  print(list3)\n",
        "\n",
        "alternate_password()"
      ],
      "execution_count": 70,
      "outputs": [
        {
          "output_type": "stream",
          "text": [
            "['d', 'a', 'c', 'b']\n"
          ],
          "name": "stdout"
        }
      ]
    },
    {
      "cell_type": "code",
      "metadata": {
        "id": "Vy60idn-DKIy",
        "colab_type": "code",
        "colab": {
          "base_uri": "https://localhost:8080/",
          "height": 34
        },
        "outputId": "cea0c04c-27c7-45f8-de80-1cf6d255d67a"
      },
      "source": [
        "#trying to create a function that shuffles numebrs in an ordered list\n",
        "def shuffle_numbers(interested_list):\n",
        "  list_length = len(interested_list)\n",
        "  shuffled_list = []\n",
        "  if len(shuffled_list) < list_length:\n",
        "    shuffled_list.append(random.randint(0,list_length))\n",
        "  print(shuffled_list)\n",
        "\n",
        "the_list = [1,2,3,4,5]\n",
        "\n",
        "shuffle_numbers(the_list)"
      ],
      "execution_count": 79,
      "outputs": [
        {
          "output_type": "stream",
          "text": [
            "[2]\n"
          ],
          "name": "stdout"
        }
      ]
    }
  ]
}